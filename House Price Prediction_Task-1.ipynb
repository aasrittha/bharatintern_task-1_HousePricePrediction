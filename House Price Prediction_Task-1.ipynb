{
 "cells": [
  {
   "cell_type": "code",
   "execution_count": 2,
   "id": "30b280b3",
   "metadata": {},
   "outputs": [],
   "source": [
    "import tensorflow as tf"
   ]
  },
  {
   "cell_type": "code",
   "execution_count": 3,
   "id": "4ab30ba5",
   "metadata": {},
   "outputs": [
    {
     "data": {
      "text/plain": [
       "'2.14.0'"
      ]
     },
     "execution_count": 3,
     "metadata": {},
     "output_type": "execute_result"
    }
   ],
   "source": [
    "tf.__version__"
   ]
  },
  {
   "cell_type": "code",
   "execution_count": 4,
   "id": "dc96fe91",
   "metadata": {},
   "outputs": [],
   "source": [
    "# Importing Libraries\n",
    "\n",
    "import pandas as pd\n",
    "import numpy as np\n",
    "import matplotlib.pyplot as plt\n",
    "import seaborn as sns\n",
    "import warnings\n",
    "warnings.filterwarnings('ignore')"
   ]
  },
  {
   "cell_type": "code",
   "execution_count": 5,
   "id": "5c61c3cd",
   "metadata": {},
   "outputs": [
    {
     "data": {
      "text/html": [
       "<div>\n",
       "<style scoped>\n",
       "    .dataframe tbody tr th:only-of-type {\n",
       "        vertical-align: middle;\n",
       "    }\n",
       "\n",
       "    .dataframe tbody tr th {\n",
       "        vertical-align: top;\n",
       "    }\n",
       "\n",
       "    .dataframe thead th {\n",
       "        text-align: right;\n",
       "    }\n",
       "</style>\n",
       "<table border=\"1\" class=\"dataframe\">\n",
       "  <thead>\n",
       "    <tr style=\"text-align: right;\">\n",
       "      <th></th>\n",
       "      <th>0.00632  18.00   2.310  0  0.5380  6.5750  65.20  4.0900   1  296.0  15.30 396.90   4.98  24.00</th>\n",
       "    </tr>\n",
       "  </thead>\n",
       "  <tbody>\n",
       "    <tr>\n",
       "      <th>0</th>\n",
       "      <td>0.02731   0.00   7.070  0  0.4690  6.4210  78...</td>\n",
       "    </tr>\n",
       "    <tr>\n",
       "      <th>1</th>\n",
       "      <td>0.02729   0.00   7.070  0  0.4690  7.1850  61...</td>\n",
       "    </tr>\n",
       "    <tr>\n",
       "      <th>2</th>\n",
       "      <td>0.03237   0.00   2.180  0  0.4580  6.9980  45...</td>\n",
       "    </tr>\n",
       "    <tr>\n",
       "      <th>3</th>\n",
       "      <td>0.06905   0.00   2.180  0  0.4580  7.1470  54...</td>\n",
       "    </tr>\n",
       "    <tr>\n",
       "      <th>4</th>\n",
       "      <td>0.02985   0.00   2.180  0  0.4580  6.4300  58...</td>\n",
       "    </tr>\n",
       "  </tbody>\n",
       "</table>\n",
       "</div>"
      ],
      "text/plain": [
       "   0.00632  18.00   2.310  0  0.5380  6.5750  65.20  4.0900   1  296.0  15.30 396.90   4.98  24.00\n",
       "0   0.02731   0.00   7.070  0  0.4690  6.4210  78...                                              \n",
       "1   0.02729   0.00   7.070  0  0.4690  7.1850  61...                                              \n",
       "2   0.03237   0.00   2.180  0  0.4580  6.9980  45...                                              \n",
       "3   0.06905   0.00   2.180  0  0.4580  7.1470  54...                                              \n",
       "4   0.02985   0.00   2.180  0  0.4580  6.4300  58...                                              "
      ]
     },
     "execution_count": 5,
     "metadata": {},
     "output_type": "execute_result"
    }
   ],
   "source": [
    "# Loading CSV file\n",
    "\n",
    "df = pd.read_csv(r\"C:\\Users\\aasri\\Downloads\\housing.csv\")\n",
    "df.head()"
   ]
  },
  {
   "cell_type": "code",
   "execution_count": 7,
   "id": "061b5514",
   "metadata": {},
   "outputs": [
    {
     "data": {
      "text/html": [
       "<div>\n",
       "<style scoped>\n",
       "    .dataframe tbody tr th:only-of-type {\n",
       "        vertical-align: middle;\n",
       "    }\n",
       "\n",
       "    .dataframe tbody tr th {\n",
       "        vertical-align: top;\n",
       "    }\n",
       "\n",
       "    .dataframe thead th {\n",
       "        text-align: right;\n",
       "    }\n",
       "</style>\n",
       "<table border=\"1\" class=\"dataframe\">\n",
       "  <thead>\n",
       "    <tr style=\"text-align: right;\">\n",
       "      <th></th>\n",
       "      <th>CRIM</th>\n",
       "      <th>ZN</th>\n",
       "      <th>INDUS</th>\n",
       "      <th>CHAS</th>\n",
       "      <th>NOX</th>\n",
       "      <th>RM</th>\n",
       "      <th>AGE</th>\n",
       "      <th>DIS</th>\n",
       "      <th>RAD</th>\n",
       "      <th>TAX</th>\n",
       "      <th>PTRATIO</th>\n",
       "      <th>B</th>\n",
       "      <th>LSTAT</th>\n",
       "      <th>MEDV</th>\n",
       "    </tr>\n",
       "  </thead>\n",
       "  <tbody>\n",
       "    <tr>\n",
       "      <th>0</th>\n",
       "      <td>0.00632</td>\n",
       "      <td>18.0</td>\n",
       "      <td>2.31</td>\n",
       "      <td>0</td>\n",
       "      <td>0.538</td>\n",
       "      <td>6.575</td>\n",
       "      <td>65.2</td>\n",
       "      <td>4.0900</td>\n",
       "      <td>1</td>\n",
       "      <td>296.0</td>\n",
       "      <td>15.3</td>\n",
       "      <td>396.90</td>\n",
       "      <td>4.98</td>\n",
       "      <td>24.0</td>\n",
       "    </tr>\n",
       "    <tr>\n",
       "      <th>1</th>\n",
       "      <td>0.02731</td>\n",
       "      <td>0.0</td>\n",
       "      <td>7.07</td>\n",
       "      <td>0</td>\n",
       "      <td>0.469</td>\n",
       "      <td>6.421</td>\n",
       "      <td>78.9</td>\n",
       "      <td>4.9671</td>\n",
       "      <td>2</td>\n",
       "      <td>242.0</td>\n",
       "      <td>17.8</td>\n",
       "      <td>396.90</td>\n",
       "      <td>9.14</td>\n",
       "      <td>21.6</td>\n",
       "    </tr>\n",
       "    <tr>\n",
       "      <th>2</th>\n",
       "      <td>0.02729</td>\n",
       "      <td>0.0</td>\n",
       "      <td>7.07</td>\n",
       "      <td>0</td>\n",
       "      <td>0.469</td>\n",
       "      <td>7.185</td>\n",
       "      <td>61.1</td>\n",
       "      <td>4.9671</td>\n",
       "      <td>2</td>\n",
       "      <td>242.0</td>\n",
       "      <td>17.8</td>\n",
       "      <td>392.83</td>\n",
       "      <td>4.03</td>\n",
       "      <td>34.7</td>\n",
       "    </tr>\n",
       "    <tr>\n",
       "      <th>3</th>\n",
       "      <td>0.03237</td>\n",
       "      <td>0.0</td>\n",
       "      <td>2.18</td>\n",
       "      <td>0</td>\n",
       "      <td>0.458</td>\n",
       "      <td>6.998</td>\n",
       "      <td>45.8</td>\n",
       "      <td>6.0622</td>\n",
       "      <td>3</td>\n",
       "      <td>222.0</td>\n",
       "      <td>18.7</td>\n",
       "      <td>394.63</td>\n",
       "      <td>2.94</td>\n",
       "      <td>33.4</td>\n",
       "    </tr>\n",
       "    <tr>\n",
       "      <th>4</th>\n",
       "      <td>0.06905</td>\n",
       "      <td>0.0</td>\n",
       "      <td>2.18</td>\n",
       "      <td>0</td>\n",
       "      <td>0.458</td>\n",
       "      <td>7.147</td>\n",
       "      <td>54.2</td>\n",
       "      <td>6.0622</td>\n",
       "      <td>3</td>\n",
       "      <td>222.0</td>\n",
       "      <td>18.7</td>\n",
       "      <td>396.90</td>\n",
       "      <td>5.33</td>\n",
       "      <td>36.2</td>\n",
       "    </tr>\n",
       "  </tbody>\n",
       "</table>\n",
       "</div>"
      ],
      "text/plain": [
       "      CRIM    ZN  INDUS  CHAS    NOX     RM   AGE     DIS  RAD    TAX  \\\n",
       "0  0.00632  18.0   2.31     0  0.538  6.575  65.2  4.0900    1  296.0   \n",
       "1  0.02731   0.0   7.07     0  0.469  6.421  78.9  4.9671    2  242.0   \n",
       "2  0.02729   0.0   7.07     0  0.469  7.185  61.1  4.9671    2  242.0   \n",
       "3  0.03237   0.0   2.18     0  0.458  6.998  45.8  6.0622    3  222.0   \n",
       "4  0.06905   0.0   2.18     0  0.458  7.147  54.2  6.0622    3  222.0   \n",
       "\n",
       "   PTRATIO       B  LSTAT  MEDV  \n",
       "0     15.3  396.90   4.98  24.0  \n",
       "1     17.8  396.90   9.14  21.6  \n",
       "2     17.8  392.83   4.03  34.7  \n",
       "3     18.7  394.63   2.94  33.4  \n",
       "4     18.7  396.90   5.33  36.2  "
      ]
     },
     "execution_count": 7,
     "metadata": {},
     "output_type": "execute_result"
    }
   ],
   "source": [
    "# Giving Names to our columns\n",
    "\n",
    "\n",
    "column_names = ['CRIM', 'ZN', 'INDUS', 'CHAS', 'NOX', 'RM', 'AGE', 'DIS', 'RAD', 'TAX', 'PTRATIO', 'B', 'LSTAT', 'MEDV']\n",
    "\n",
    "df = pd.read_csv(r\"C:\\Users\\aasri\\Downloads\\housing.csv\",header=None, delimiter=r\"\\s+\",names=column_names)\n",
    "df.head()"
   ]
  },
  {
   "cell_type": "code",
   "execution_count": 8,
   "id": "6e978d83",
   "metadata": {},
   "outputs": [
    {
     "data": {
      "text/plain": [
       "(506, 14)"
      ]
     },
     "execution_count": 8,
     "metadata": {},
     "output_type": "execute_result"
    }
   ],
   "source": [
    "# No. of Rows and Columns\n",
    "\n",
    "df.shape"
   ]
  },
  {
   "cell_type": "code",
   "execution_count": 9,
   "id": "3999461c",
   "metadata": {},
   "outputs": [
    {
     "data": {
      "text/plain": [
       "CRIM       0\n",
       "ZN         0\n",
       "INDUS      0\n",
       "CHAS       0\n",
       "NOX        0\n",
       "RM         0\n",
       "AGE        0\n",
       "DIS        0\n",
       "RAD        0\n",
       "TAX        0\n",
       "PTRATIO    0\n",
       "B          0\n",
       "LSTAT      0\n",
       "MEDV       0\n",
       "dtype: int64"
      ]
     },
     "execution_count": 9,
     "metadata": {},
     "output_type": "execute_result"
    }
   ],
   "source": [
    "# To check Null values\n",
    "\n",
    "df.isnull().sum()"
   ]
  },
  {
   "cell_type": "code",
   "execution_count": 10,
   "id": "6178eac1",
   "metadata": {},
   "outputs": [
    {
     "data": {
      "image/png": "[encoded data removed]",
      "text/plain": [
       "<Figure size 640x480 with 2 Axes>"
      ]
     },
     "metadata": {},
     "output_type": "display_data"
    }
   ],
   "source": [
    "# Visualization for finding null values\n",
    "\n",
    "sns.heatmap(df.isnull())\n",
    "plt.show()"
   ]
  },
  {
   "cell_type": "code",
   "execution_count": 11,
   "id": "e26f3b33",
   "metadata": {},
   "outputs": [
    {
     "data": {
      "text/plain": [
       "CRIM       float64\n",
       "ZN         float64\n",
       "INDUS      float64\n",
       "CHAS         int64\n",
       "NOX        float64\n",
       "RM         float64\n",
       "AGE        float64\n",
       "DIS        float64\n",
       "RAD          int64\n",
       "TAX        float64\n",
       "PTRATIO    float64\n",
       "B          float64\n",
       "LSTAT      float64\n",
       "MEDV       float64\n",
       "dtype: object"
      ]
     },
     "execution_count": 11,
     "metadata": {},
     "output_type": "execute_result"
    }
   ],
   "source": [
    "# To check every column is in numeric type\n",
    "\n",
    "df.dtypes"
   ]
  },
  {
   "cell_type": "code",
   "execution_count": 12,
   "id": "fc06b054",
   "metadata": {},
   "outputs": [
    {
     "data": {
      "text/plain": [
       "0"
      ]
     },
     "execution_count": 12,
     "metadata": {},
     "output_type": "execute_result"
    }
   ],
   "source": [
    "# To check duplicate values/rows\n",
    "\n",
    "df.duplicated().sum()"
   ]
  },
  {
   "cell_type": "code",
   "execution_count": 13,
   "id": "67149c60",
   "metadata": {},
   "outputs": [],
   "source": [
    "# Select input and output (features and target)\n",
    "\n",
    "x = df.drop('MEDV',axis=1)\n",
    "y = df['MEDV']"
   ]
  },
  {
   "cell_type": "code",
   "execution_count": 14,
   "id": "ebb9d0cb",
   "metadata": {},
   "outputs": [],
   "source": [
    "# Splitting our data / Train Test Split\n",
    "\n",
    "from sklearn.model_selection import train_test_split\n",
    "x_train, x_test, y_train, y_test = train_test_split(x,y,test_size=0.30,random_state=1)"
   ]
  },
  {
   "cell_type": "code",
   "execution_count": 15,
   "id": "d17c63b8",
   "metadata": {},
   "outputs": [],
   "source": [
    "# Apply Scaling\n",
    "\n",
    "from sklearn.preprocessing import StandardScaler\n",
    "ss = StandardScaler()\n",
    "x_train = ss.fit_transform(x_train)\n",
    "x_test = ss.transform(x_test)"
   ]
  },
  {
   "cell_type": "code",
   "execution_count": 16,
   "id": "d38a43e3",
   "metadata": {},
   "outputs": [
    {
     "data": {
      "text/plain": [
       "((354, 13), (152, 13))"
      ]
     },
     "execution_count": 16,
     "metadata": {},
     "output_type": "execute_result"
    }
   ],
   "source": [
    "# Shape of x_train, x_test\n",
    "\n",
    "x_train.shape,x_test.shape"
   ]
  },
  {
   "cell_type": "code",
   "execution_count": 17,
   "id": "85ad8593",
   "metadata": {},
   "outputs": [],
   "source": [
    "# Creating a Neural Network (ANN)\n",
    "# Using Inbuilt class Sequential which is defined in tensorflow.keras\n",
    "# Creating Object of Sequential class\n",
    "\n",
    "model = tf.keras.Sequential([\n",
    "    # first hidden layer\n",
    "    tf.keras.layers.Dense(units=14,activation='relu',input_shape=(13,)),\n",
    "    # Output layer\n",
    "    tf.keras.layers.Dense(units=1,activation='linear')])"
   ]
  },
  {
   "cell_type": "code",
   "execution_count": 18,
   "id": "13b0a91a",
   "metadata": {},
   "outputs": [
    {
     "name": "stdout",
     "output_type": "stream",
     "text": [
      "Model: \"sequential\"\n",
      "_________________________________________________________________\n",
      " Layer (type)                Output Shape              Param #   \n",
      "=================================================================\n",
      " dense (Dense)               (None, 14)                196       \n",
      "                                                                 \n",
      " dense_1 (Dense)             (None, 1)                 15        \n",
      "                                                                 \n",
      "=================================================================\n",
      "Total params: 211 (844.00 Byte)\n",
      "Trainable params: 211 (844.00 Byte)\n",
      "Non-trainable params: 0 (0.00 Byte)\n",
      "_________________________________________________________________\n"
     ]
    }
   ],
   "source": [
    "# To show summary of our model\n",
    "\n",
    "model.summary()"
   ]
  },
  {
   "cell_type": "code",
   "execution_count": 19,
   "id": "9a33915d",
   "metadata": {},
   "outputs": [],
   "source": [
    "# Compile our Model\n",
    "\n",
    "model.compile(optimizer='sgd',loss='mse')"
   ]
  },
  {
   "cell_type": "code",
   "execution_count": 20,
   "id": "8fe3a746",
   "metadata": {},
   "outputs": [],
   "source": [
    "# Creating a procedure to decide the no. of epochs to train the model (EarlyStopping)\n",
    "\n",
    "from tensorflow.keras.callbacks import EarlyStopping\n",
    "\n",
    "# create object for EarlyStopping class\n",
    "cb = EarlyStopping(\n",
    "    monitor = 'val_loss',   # testing error\n",
    "    min_delta = 0.00001,    # min value of delta\n",
    "    patience = 20,\n",
    "    verbose = 1,\n",
    "    mode = 'auto',\n",
    "    baseline = None,\n",
    "    restore_best_weights = False)"
   ]
  },
  {
   "cell_type": "code",
   "execution_count": 21,
   "id": "163aa699",
   "metadata": {},
   "outputs": [
    {
     "name": "stdout",
     "output_type": "stream",
     "text": [
      "Epoch 1/5000\n",
      "12/12 [==============================] - 1s 35ms/step - loss: 231.2224 - val_loss: 40.8842\n",
      "Epoch 2/5000\n",
      "12/12 [==============================] - 0s 7ms/step - loss: 29.7732 - val_loss: 29.9187\n",
      "Epoch 3/5000\n",
      "12/12 [==============================] - 0s 8ms/step - loss: 25.5591 - val_loss: 650.7820\n",
      "Epoch 4/5000\n",
      "12/12 [==============================] - 0s 7ms/step - loss: 81.2357 - val_loss: 33.2857\n",
      "Epoch 5/5000\n",
      "12/12 [==============================] - 0s 7ms/step - loss: 19.0511 - val_loss: 21.4865\n",
      "Epoch 6/5000\n",
      "12/12 [==============================] - 0s 8ms/step - loss: 18.4002 - val_loss: 61.7162\n",
      "Epoch 7/5000\n",
      "12/12 [==============================] - 0s 8ms/step - loss: 26.4042 - val_loss: 12.3958\n",
      "Epoch 8/5000\n",
      "12/12 [==============================] - 0s 8ms/step - loss: 15.3887 - val_loss: 10.8913\n",
      "Epoch 9/5000\n",
      "12/12 [==============================] - 0s 8ms/step - loss: 14.5026 - val_loss: 14.2262\n",
      "Epoch 10/5000\n",
      "12/12 [==============================] - 0s 8ms/step - loss: 13.3684 - val_loss: 70.3048\n",
      "Epoch 11/5000\n",
      "12/12 [==============================] - 0s 6ms/step - loss: 24.5670 - val_loss: 14.4674\n",
      "Epoch 12/5000\n",
      "12/12 [==============================] - 0s 6ms/step - loss: 13.1054 - val_loss: 13.6711\n",
      "Epoch 13/5000\n",
      "12/12 [==============================] - 0s 8ms/step - loss: 12.5971 - val_loss: 80.1087\n",
      "Epoch 14/5000\n",
      "12/12 [==============================] - 0s 10ms/step - loss: 26.6255 - val_loss: 18.2754\n",
      "Epoch 15/5000\n",
      "12/12 [==============================] - 0s 10ms/step - loss: 13.0872 - val_loss: 117.6326\n",
      "Epoch 16/5000\n",
      "12/12 [==============================] - 0s 8ms/step - loss: 22.3953 - val_loss: 9.4592\n",
      "Epoch 17/5000\n",
      "12/12 [==============================] - 0s 7ms/step - loss: 12.3108 - val_loss: 12.0828\n",
      "Epoch 18/5000\n",
      "12/12 [==============================] - 0s 7ms/step - loss: 11.6283 - val_loss: 17.9277\n",
      "Epoch 19/5000\n",
      "12/12 [==============================] - 0s 9ms/step - loss: 13.2987 - val_loss: 22.1416\n",
      "Epoch 20/5000\n",
      "12/12 [==============================] - 0s 10ms/step - loss: 13.7196 - val_loss: 27.6836\n",
      "Epoch 21/5000\n",
      "12/12 [==============================] - 0s 8ms/step - loss: 12.8987 - val_loss: 74.3425\n",
      "Epoch 22/5000\n",
      "12/12 [==============================] - 0s 8ms/step - loss: 26.5142 - val_loss: 27.4448\n",
      "Epoch 23/5000\n",
      "12/12 [==============================] - 0s 8ms/step - loss: 18.4709 - val_loss: 18.1350\n",
      "Epoch 24/5000\n",
      "12/12 [==============================] - 0s 7ms/step - loss: 13.1762 - val_loss: 17.3318\n",
      "Epoch 25/5000\n",
      "12/12 [==============================] - 0s 8ms/step - loss: 14.3513 - val_loss: 13.5205\n",
      "Epoch 26/5000\n",
      "12/12 [==============================] - 0s 8ms/step - loss: 11.8026 - val_loss: 12.4179\n",
      "Epoch 27/5000\n",
      "12/12 [==============================] - 0s 7ms/step - loss: 11.6454 - val_loss: 10.8647\n",
      "Epoch 28/5000\n",
      "12/12 [==============================] - 0s 8ms/step - loss: 10.6620 - val_loss: 12.1425\n",
      "Epoch 29/5000\n",
      "12/12 [==============================] - 0s 11ms/step - loss: 11.4912 - val_loss: 8.4411\n",
      "Epoch 30/5000\n",
      "12/12 [==============================] - 0s 11ms/step - loss: 10.4912 - val_loss: 24.9523\n",
      "Epoch 31/5000\n",
      "12/12 [==============================] - 0s 9ms/step - loss: 12.5603 - val_loss: 8.4613\n",
      "Epoch 32/5000\n",
      "12/12 [==============================] - 0s 8ms/step - loss: 10.2193 - val_loss: 8.4526\n",
      "Epoch 33/5000\n",
      "12/12 [==============================] - 0s 7ms/step - loss: 10.9249 - val_loss: 18.9658\n",
      "Epoch 34/5000\n",
      "12/12 [==============================] - 0s 8ms/step - loss: 11.6738 - val_loss: 19.5805\n",
      "Epoch 35/5000\n",
      "12/12 [==============================] - 0s 8ms/step - loss: 13.7217 - val_loss: 11.5699\n",
      "Epoch 36/5000\n",
      "12/12 [==============================] - 0s 7ms/step - loss: 11.5818 - val_loss: 79.9842\n",
      "Epoch 37/5000\n",
      "12/12 [==============================] - 0s 8ms/step - loss: 17.4218 - val_loss: 9.6149\n",
      "Epoch 38/5000\n",
      "12/12 [==============================] - 0s 7ms/step - loss: 10.8061 - val_loss: 20.8823\n",
      "Epoch 39/5000\n",
      "12/12 [==============================] - 0s 7ms/step - loss: 11.4140 - val_loss: 425.9684\n",
      "Epoch 40/5000\n",
      "12/12 [==============================] - 0s 9ms/step - loss: 54.9130 - val_loss: 46.7722\n",
      "Epoch 41/5000\n",
      "12/12 [==============================] - 0s 8ms/step - loss: 14.1196 - val_loss: 30.6637\n",
      "Epoch 42/5000\n",
      "12/12 [==============================] - 0s 7ms/step - loss: 13.2128 - val_loss: 11.0023\n",
      "Epoch 43/5000\n",
      "12/12 [==============================] - 0s 9ms/step - loss: 10.3037 - val_loss: 16.9119\n",
      "Epoch 44/5000\n",
      "12/12 [==============================] - 0s 8ms/step - loss: 11.1373 - val_loss: 9.2237\n",
      "Epoch 45/5000\n",
      "12/12 [==============================] - 0s 7ms/step - loss: 10.3956 - val_loss: 54.3937\n",
      "Epoch 46/5000\n",
      "12/12 [==============================] - 0s 8ms/step - loss: 17.0368 - val_loss: 18.9211\n",
      "Epoch 47/5000\n",
      "12/12 [==============================] - 0s 7ms/step - loss: 12.1236 - val_loss: 11.9299\n",
      "Epoch 48/5000\n",
      "12/12 [==============================] - 0s 8ms/step - loss: 10.2988 - val_loss: 8.6583\n",
      "Epoch 49/5000\n",
      "12/12 [==============================] - 0s 8ms/step - loss: 9.9004 - val_loss: 9.3353\n",
      "Epoch 49: early stopping\n"
     ]
    }
   ],
   "source": [
    "# Train our model, fit()\n",
    "\n",
    "trained_model = model.fit(x_train,y_train,epochs=5000,callbacks=cb,validation_data=(x_test,y_test))  "
   ]
  },
  {
   "cell_type": "code",
   "execution_count": 22,
   "id": "12f37146",
   "metadata": {},
   "outputs": [
    {
     "name": "stdout",
     "output_type": "stream",
     "text": [
      "12/12 [==============================] - 0s 4ms/step - loss: 9.4293\n",
      "Training_loss : 9.429298400878906\n",
      "5/5 [==============================] - 0s 7ms/step - loss: 9.3353\n",
      "Testing_loss : 9.335343360900879\n"
     ]
    }
   ],
   "source": [
    "# Checking Training and Testing loss (This is the last iteration from above where our model stopped)\n",
    "\n",
    "print('Training_loss :',model.evaluate(x_train,y_train))\n",
    "print('Testing_loss :',model.evaluate(x_test,y_test))"
   ]
  },
  {
   "cell_type": "code",
   "execution_count": 23,
   "id": "7e57f4ab",
   "metadata": {},
   "outputs": [
    {
     "data": {
      "image/png": "[encoded data removed]",
      "text/plain": [
       "<Figure size 640x480 with 1 Axes>"
      ]
     },
     "metadata": {},
     "output_type": "display_data"
    }
   ],
   "source": [
    "# Visualizing loss and epochs of  each iteration\n",
    "\n",
    "plt.plot(trained_model.history['loss'],label='Training_loss')\n",
    "plt.plot(trained_model.history['val_loss'],label='Testing_loss')\n",
    "plt.xlabel('No, of Epochs')\n",
    "plt.ylabel('Mean Squared Error')\n",
    "plt.legend()\n",
    "plt.show()"
   ]
  },
  {
   "cell_type": "code",
   "execution_count": 24,
   "id": "106a5874",
   "metadata": {},
   "outputs": [
    {
     "data": {
      "text/plain": [
       "[array([[-2.50144571e-01, -9.44938600e-01, -7.25671470e-01,\n",
       "         -1.70948222e-01, -7.32837558e-01, -6.32246554e-01,\n",
       "         -3.00349772e-01, -9.19634923e-02,  6.73763156e-01,\n",
       "          1.69053718e-01, -2.80331582e-01, -1.14408791e+00,\n",
       "         -1.53237000e-01,  4.84361090e-02],\n",
       "        [ 2.33816765e-02,  1.89144649e-02,  5.16698137e-02,\n",
       "          9.49831679e-02, -3.48617196e-01, -2.65183687e-01,\n",
       "         -2.22014070e-01,  4.02506776e-02, -2.40220562e-01,\n",
       "          8.15590978e-01, -6.64787769e-01, -5.21355867e-01,\n",
       "          6.42640442e-02,  2.65863329e-01],\n",
       "        [ 6.79358900e-01, -7.50934839e-01, -1.27491772e-01,\n",
       "         -4.06764969e-02, -6.66889250e-01,  1.41020313e-01,\n",
       "          9.89290699e-02,  2.88016856e-01, -3.45024198e-01,\n",
       "          7.64790952e-01,  1.69668049e-01,  1.29117000e+00,\n",
       "         -3.59015554e-01, -1.40468329e-01],\n",
       "        [ 8.30545068e-01,  7.06281841e-01, -8.73566329e-01,\n",
       "          2.94322163e-01, -1.50256619e-01, -5.96743166e-01,\n",
       "          1.75299179e-02, -9.80409011e-02, -1.89648956e-01,\n",
       "         -3.57065231e-01, -4.78891402e-01, -1.62453607e-01,\n",
       "          2.32495770e-01,  3.14159393e-01],\n",
       "        [-8.04623425e-01, -1.41206658e+00,  5.07192910e-01,\n",
       "         -4.26883250e-01, -1.69899598e-01,  6.75407529e-01,\n",
       "         -2.01201960e-01,  2.06602961e-01, -1.02285139e-01,\n",
       "         -8.82997572e-01,  6.44753397e-01, -7.25126207e-01,\n",
       "         -3.59106928e-01, -7.38878608e-01],\n",
       "        [ 8.39076221e-01, -1.21462131e+00,  1.06173205e+00,\n",
       "         -8.73013794e-01,  1.34866762e+00,  4.99896079e-01,\n",
       "          4.05377358e-01, -2.87437141e-01,  2.34139599e-02,\n",
       "          1.27547967e+00,  2.19114020e-01, -1.30500877e+00,\n",
       "         -4.02058512e-01, -9.90852267e-02],\n",
       "        [-6.32318497e-01,  3.73624384e-01, -3.93758953e-01,\n",
       "          1.35735184e-01, -7.81225443e-01, -5.64315259e-01,\n",
       "         -2.53635228e-01, -2.96435714e-01,  1.16101973e-01,\n",
       "          5.03232300e-01, -6.16960883e-01,  1.15552783e+00,\n",
       "          2.36579373e-01, -1.09590806e-01],\n",
       "        [-2.38855505e+00, -1.20267284e+00,  3.79226543e-02,\n",
       "         -2.86916435e-01,  4.62294430e-01, -3.24133575e-01,\n",
       "         -6.53240383e-02,  8.63560289e-02,  1.39594838e-01,\n",
       "         -9.52313989e-02,  2.66879946e-01, -1.54335523e+00,\n",
       "          1.17375568e-01, -8.23222637e-01],\n",
       "        [ 9.56505954e-01,  7.74277210e-01, -8.33794951e-01,\n",
       "          2.50284076e-01, -1.01877093e+00, -2.54718989e-01,\n",
       "          4.77047086e-01, -1.83663182e-02, -2.46780261e-01,\n",
       "          1.34778178e+00,  1.75370708e-01,  6.85573757e-01,\n",
       "          6.40932858e-01,  3.68951887e-01],\n",
       "        [ 2.39826124e-02, -9.17906016e-02, -4.33383465e-01,\n",
       "          6.83843017e-01, -1.34713244e+00, -4.43606973e-01,\n",
       "         -9.29782614e-02, -3.49096477e-01,  5.93907312e-02,\n",
       "          7.64678776e-01, -1.93932891e-01,  2.69594461e-01,\n",
       "          2.51802355e-01, -4.54202034e-02],\n",
       "        [-7.31274426e-01,  1.22793818e+00,  1.10426471e-01,\n",
       "          7.84273505e-01, -8.97689223e-01, -1.45825110e-02,\n",
       "          2.11982608e-01, -7.46896584e-03,  1.89303514e-02,\n",
       "          3.92318964e-01, -8.68456662e-02, -6.02005899e-01,\n",
       "          2.03019917e-01, -3.01929176e-01],\n",
       "        [ 3.30477804e-01,  7.37756193e-01,  3.50135893e-01,\n",
       "         -4.67863053e-01,  3.28454047e-01,  3.39110374e-01,\n",
       "          1.01761511e-02,  1.40680224e-01,  4.17945892e-01,\n",
       "          2.26768598e-01,  9.24905315e-02, -1.01081826e-01,\n",
       "          1.88423365e-01,  1.86460376e-01],\n",
       "        [-1.79227686e+00, -1.05795968e+00,  2.86993116e-01,\n",
       "          1.82092804e-02,  5.69719672e-01, -7.65989348e-02,\n",
       "         -2.33181566e-03, -2.27279603e-01,  3.66642803e-01,\n",
       "         -2.17395163e+00,  2.55833268e-02, -1.44680727e+00,\n",
       "          1.80944636e-01, -6.72750846e-02]], dtype=float32),\n",
       " array([-0.33919206,  0.32046837,  0.93401104,  0.61993796,  2.269592  ,\n",
       "         0.4549745 , -0.4998596 , -0.27708632, -0.60625285,  0.17905296,\n",
       "        -0.01956923,  0.64006025,  0.11147524, -0.19447653], dtype=float32),\n",
       " array([[ 1.6410381 ],\n",
       "        [ 1.3550496 ],\n",
       "        [ 1.2117578 ],\n",
       "        [ 0.89326406],\n",
       "        [ 2.203783  ],\n",
       "        [ 0.8308719 ],\n",
       "        [-0.42184076],\n",
       "        [-0.33668998],\n",
       "        [-0.5447147 ],\n",
       "        [ 1.5268749 ],\n",
       "        [ 0.83185786],\n",
       "        [ 1.2887446 ],\n",
       "        [ 0.40217414],\n",
       "        [ 0.5107226 ]], dtype=float32),\n",
       " array([3.6329317], dtype=float32)]"
      ]
     },
     "execution_count": 24,
     "metadata": {},
     "output_type": "execute_result"
    }
   ],
   "source": [
    "# To show weight and bias of each layer\n",
    "\n",
    "model.get_weights()\n",
    "\n",
    "\n",
    "# 1. hidden layer weight\n",
    "# 2. hidden layer bias\n",
    "# 3. output layer weight\n",
    "# 4. output layer bias"
   ]
  },
  {
   "cell_type": "code",
   "execution_count": 25,
   "id": "f1b7a27e",
   "metadata": {},
   "outputs": [
    {
     "name": "stdout",
     "output_type": "stream",
     "text": [
      "5/5 [==============================] - 0s 3ms/step\n"
     ]
    }
   ],
   "source": [
    "# Test the model (prediction)\n",
    "\n",
    "Y_pred = model.predict(x_test)"
   ]
  },
  {
   "cell_type": "code",
   "execution_count": 27,
   "id": "ff56a8f8",
   "metadata": {},
   "outputs": [
    {
     "name": "stdout",
     "output_type": "stream",
     "text": [
      "89.81463408909565\n"
     ]
    }
   ],
   "source": [
    "# Check the r2_score (accuracy)\n",
    "\n",
    "from sklearn.metrics import r2_score\n",
    "print(r2_score(y_test,Y_pred)*100)"
   ]
  },
  {
   "cell_type": "code",
   "execution_count": null,
   "id": "663fa3b0",
   "metadata": {},
   "outputs": [],
   "source": []
  }
 ],
 "metadata": {
  "kernelspec": {
   "display_name": "Python 3 (ipykernel)",
   "language": "python",
   "name": "python3"
  },
  "language_info": {
   "codemirror_mode": {
    "name": "ipython",
    "version": 3
   },
   "file_extension": ".py",
   "mimetype": "text/x-python",
   "name": "python",
   "nbconvert_exporter": "python",
   "pygments_lexer": "ipython3",
   "version": "3.10.9"
  }
 },
 "nbformat": 4,
 "nbformat_minor": 5
}
